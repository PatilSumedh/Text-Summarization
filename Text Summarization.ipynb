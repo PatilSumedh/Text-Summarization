{
 "cells": [
  {
   "cell_type": "code",
   "execution_count": 11,
   "id": "6ef520cd",
   "metadata": {},
   "outputs": [],
   "source": [
    "import nltk\n",
    "from nltk.corpus import stopwords\n",
    "from nltk.tokenize import word_tokenize, sent_tokenize\n",
    "import heapq"
   ]
  },
  {
   "cell_type": "code",
   "execution_count": 12,
   "id": "a00c7ea8",
   "metadata": {},
   "outputs": [],
   "source": [
    "def text_summarizer(text):\n",
    "    # Tokenize the text into sentences\n",
    "    sentences = sent_tokenize(text)\n",
    "    \n",
    "    # Remove stopwords (common words that don't carry much meaning)\n",
    "    stop_words = set(stopwords.words(\"english\"))\n",
    "    \n",
    "    # Calculate the frequency of each word\n",
    "    word_frequencies = {}\n",
    "    for sentence in sentences:\n",
    "        words = word_tokenize(sentence)\n",
    "        for word in words:\n",
    "            if word.lower() not in stop_words:\n",
    "                if word not in word_frequencies:\n",
    "                    word_frequencies[word] = 1\n",
    "                else:\n",
    "                    word_frequencies[word] += 1\n",
    "    \n",
    "    # Assign weights to each sentence based on word frequencies\n",
    "    sentence_scores = {}\n",
    "    for sentence in sentences:\n",
    "        words = word_tokenize(sentence)\n",
    "        for word in words:\n",
    "            if word.lower() in word_frequencies:\n",
    "                if sentence not in sentence_scores:\n",
    "                    sentence_scores[sentence] = word_frequencies[word.lower()]\n",
    "                else:\n",
    "                    sentence_scores[sentence] += word_frequencies[word.lower()]\n",
    "    \n",
    "    # Select the top N sentences with highest weights\n",
    "    summary_sentences = heapq.nlargest(3, sentence_scores, key=sentence_scores.get)\n",
    "    \n",
    "    # Join the summary sentences into a single string\n",
    "    summary = ' '.join(summary_sentences)\n",
    "    return summary"
   ]
  },
  {
   "cell_type": "code",
   "execution_count": 15,
   "id": "e8bf8de5",
   "metadata": {},
   "outputs": [
    {
     "name": "stdout",
     "output_type": "stream",
     "text": [
      "Different Types of Animation: Traditional Animation, Rotoscoping, Anime, Cutout, 3D Animation, \n",
      "Stop Motion, Motion graphics. To create the appearance of smooth motion from these drawn, painted, or computer-generated images, frame rate, or\n",
      "the number of consecutive images that are displayed each second, is considered. Animation is a method of photographing successive drawings, models, or even puppets,\n",
      "to create an illusion of movement in a sequence.\n"
     ]
    }
   ],
   "source": [
    "text = '''What is animation? Animation is a method of photographing successive drawings, models, or even puppets,\n",
    "to create an illusion of movement in a sequence. Because our eyes can only retain an image for approximately \n",
    "1/10 of a second, when multiple images appear in fast succession, the brain blends them into a single moving image.\n",
    "In traditional animation, pictures are drawn or painted on transparent celluloid sheets to be photographed. Early\n",
    "cartoons are examples of this, but today, most animated movies are made with computer-generated imagery or CGI. \n",
    "To create the appearance of smooth motion from these drawn, painted, or computer-generated images, frame rate, or\n",
    "the number of consecutive images that are displayed each second, is considered. Moving characters are usually shot \n",
    "“on twos” which just means one image is shown for two frames, totaling in at 12 drawings per second. 12 frames per \n",
    "second allows for motion but may look choppy. In the film, a frame rate of 24 frames per second is often used for \n",
    "smooth motion. Different Types of Animation: Traditional Animation, Rotoscoping, Anime, Cutout, 3D Animation, \n",
    "Stop Motion, Motion graphics. Traditional is most often 2D animation. Aladdin, The Lion King, and other earlier \n",
    "cartoons are the best examples of this. In the earlier years, the animator would draw on a table that had a light\n",
    "inside of it, so the creator could see his or her previous animation. While the traditional style is not nearly \n",
    "as prevalent today, drawings are generally done on tablets. And manual coloring hasn’t been used by Disney since\n",
    "The Little Mermaid in 1989. '''\n",
    "\n",
    "summary = text_summarizer(text)\n",
    "print(summary)"
   ]
  }
 ],
 "metadata": {
  "kernelspec": {
   "display_name": "Python 3 (ipykernel)",
   "language": "python",
   "name": "python3"
  },
  "language_info": {
   "codemirror_mode": {
    "name": "ipython",
    "version": 3
   },
   "file_extension": ".py",
   "mimetype": "text/x-python",
   "name": "python",
   "nbconvert_exporter": "python",
   "pygments_lexer": "ipython3",
   "version": "3.9.7"
  }
 },
 "nbformat": 4,
 "nbformat_minor": 5
}
